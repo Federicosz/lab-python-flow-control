{
 "cells": [
  {
   "cell_type": "markdown",
   "id": "d3bfc191-8885-42ee-b0a0-bbab867c6f9f",
   "metadata": {
    "tags": []
   },
   "source": [
    "# Lab | Flow Control"
   ]
  },
  {
   "cell_type": "markdown",
   "id": "3851fcd1-cf98-4653-9c89-e003b7ec9400",
   "metadata": {},
   "source": [
    "## Exercise: Managing Customer Orders Optimized\n",
    "\n",
    "In the last lab, you were starting an online store that sells various products. To ensure smooth operations, you developed a program that manages customer orders and inventory.\n",
    "\n",
    "You did so without using flow control. Let's go a step further and improve this code.\n",
    "\n",
    "Follow the steps below to complete the exercise:\n",
    "\n",
    "1. Look at your code from the lab data structures, and improve repeated code with loops.\n",
    "\n",
    "2. Instead of asking the user to input the name of three products that a customer wants to order, do the following:\n",
    "    \n",
    "    a. Prompt the user to enter the name of a product that a customer wants to order.\n",
    "    \n",
    "    b. Add the product name to the \"customer_orders\" set.\n",
    "    \n",
    "    c. Ask the user if they want to add another product (yes/no).\n",
    "    \n",
    "    d. Continue the loop until the user does not want to add another product.\n",
    "\n",
    "3. Instead of updating the inventory by subtracting 1 from the quantity of each product, only do it for  the products that were ordered (those in \"customer_orders\")."
   ]
  },
  {
   "cell_type": "code",
   "execution_count": 1,
   "id": "ad4ed745",
   "metadata": {
    "scrolled": true
   },
   "outputs": [
    {
     "name": "stdout",
     "output_type": "stream",
     "text": [
      "enter the quantity of t-shirt:12\n",
      "enter the quantity of mug:45\n",
      "enter the quantity of hat:78\n",
      "enter the quantity of book:9\n",
      "enter the quantity of keychain:8\n"
     ]
    },
    {
     "data": {
      "text/plain": [
       "{'t-shirt': 12, 'mug': 45, 'hat': 78, 'book': 9, 'keychain': 8}"
      ]
     },
     "execution_count": 1,
     "metadata": {},
     "output_type": "execute_result"
    }
   ],
   "source": [
    "#creation of the inventory\n",
    "products =[\"t-shirt\", \"mug\", \"hat\", \"book\", \"keychain\"]\n",
    "a=dict()\n",
    "inventory={}\n",
    "for i in products:\n",
    "    quantity= input(f'enter the quantity of {i}:')\n",
    "    inventory[i]= quantity\n",
    "    while not quantity.isdigit():\n",
    "        quantity= input(f'not a integer number, please enter the quantity of {i}: ')    \n",
    "        inventory[i]= quantity\n",
    "    inventory[i]=int(inventory[i])\n",
    "inventory"
   ]
  },
  {
   "cell_type": "code",
   "execution_count": 20,
   "id": "e3e89027",
   "metadata": {},
   "outputs": [
    {
     "name": "stdout",
     "output_type": "stream",
     "text": [
      "enter name of your product: mug\n",
      "would you like to add another item?:t-shirt\n",
      "Sorry I couldn't understand, please tape yes or no:h\n",
      "Sorry I couldn't understand, please tape yes or no:yes\n",
      "enter name of your product: hat\n",
      "would you like to add another item?:no\n"
     ]
    },
    {
     "data": {
      "text/plain": [
       "{'mug': 1, 'hat': 1}"
      ]
     },
     "execution_count": 20,
     "metadata": {},
     "output_type": "execute_result"
    }
   ],
   "source": [
    "#create customer cart\n",
    "customer_orders = dict()\n",
    "extra_item=[]\n",
    "while not extra_item=='no':\n",
    "    order = input('enter name of your product: ')\n",
    "    while order not in products: \n",
    "        order = input(f'Please type a product in {products}') \n",
    "    if order not in customer_orders: \n",
    "        customer_orders.update({order:1})  \n",
    "    else:\n",
    "        customer_orders[order]+=1\n",
    "    extra_item=input(f'would you like to add another item?:' )\n",
    "    while not (extra_item==\"yes\" or extra_item==\"no\"): \n",
    "        extra_item=input(f\"Sorry I couldn't understand, please tape yes or no:\" )    \n",
    "customer_orders"
   ]
  },
  {
   "cell_type": "code",
   "execution_count": 27,
   "id": "aecc9e2d",
   "metadata": {},
   "outputs": [
    {
     "name": "stdout",
     "output_type": "stream",
     "text": [
      "enter name of your product: a\n",
      "Please type a product in ['t-shirt', 'mug', 'hat', 'book', 'keychain']mug\n",
      "how many do you want to order: a\n",
      "Please type number 12\n",
      "would you like to add another item?:yes\n",
      "enter name of your product: book\n",
      "how many do you want to order: rt\n",
      "Please type number 23.3\n",
      "Please type number 23\n",
      "would you like to add another item?:no\n"
     ]
    },
    {
     "data": {
      "text/plain": [
       "{'mug': 12, 'book': 23}"
      ]
     },
     "execution_count": 27,
     "metadata": {},
     "output_type": "execute_result"
    }
   ],
   "source": [
    "customer_orders = dict()\n",
    "extra_item=[]\n",
    "while not extra_item=='no':\n",
    "    order = input('enter name of your product: ')\n",
    "    while order not in products: \n",
    "        order = input(f'Please type a product in {products}')\n",
    "    quantity = input('how many do you want to order: ')\n",
    "    while not quantity.isdigit(): \n",
    "        quantity = input(f'Please type number ')\n",
    "    customer_orders.update({order:int(quantity)})       \n",
    "    extra_item=input(f'would you like to add another item?:' )\n",
    "    while not (extra_item==\"yes\" or extra_item==\"no\"): \n",
    "        extra_item=input(f\"Sorry I couldn't understand, please tape yes or no:\" )    \n",
    "customer_orders"
   ]
  },
  {
   "cell_type": "code",
   "execution_count": 28,
   "id": "a6ca83da",
   "metadata": {},
   "outputs": [
    {
     "data": {
      "text/plain": [
       "{'t-shirt': 12, 'mug': 32, 'hat': 77, 'book': -14, 'keychain': 8}"
      ]
     },
     "execution_count": 28,
     "metadata": {},
     "output_type": "execute_result"
    }
   ],
   "source": [
    "#update inventory\n",
    "for key,value in customer_orders.items():\n",
    "    inventory[key]-=customer_orders[key]\n",
    "inventory"
   ]
  }
 ],
 "metadata": {
  "kernelspec": {
   "display_name": "Python 3 (ipykernel)",
   "language": "python",
   "name": "python3"
  },
  "language_info": {
   "codemirror_mode": {
    "name": "ipython",
    "version": 3
   },
   "file_extension": ".py",
   "mimetype": "text/x-python",
   "name": "python",
   "nbconvert_exporter": "python",
   "pygments_lexer": "ipython3",
   "version": "3.11.5"
  }
 },
 "nbformat": 4,
 "nbformat_minor": 5
}
